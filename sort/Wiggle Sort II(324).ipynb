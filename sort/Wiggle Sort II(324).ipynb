{
 "cells": [
  {
   "cell_type": "markdown",
   "metadata": {},
   "source": [
    "**Problem**"
   ]
  },
  {
   "cell_type": "code",
   "execution_count": 1,
   "metadata": {},
   "outputs": [],
   "source": [
    "# Given an integer array nums, reorder it such that nums[0] < nums[1] > nums[2] < nums[3]....\n",
    "\n",
    "# You may assume the input array always has a valid answer."
   ]
  },
  {
   "cell_type": "markdown",
   "metadata": {},
   "source": [
    "**Ideas**"
   ]
  },
  {
   "cell_type": "markdown",
   "metadata": {},
   "source": [
    "Compared with Wiggle Sort I, this problem removes the equal sign and as a result, not every array can achieve such a pattern. Luckily we can assume the given array in this problem always has a valid answer.\n",
    "\n",
    "One basic idea is to do the sorting, after that we can put the first half in even positions and the second half in odd positions. But we know it will take O(nlgn) time complexity, can we do better?\n",
    "\n",
    "We can sort of combine Problem 215(Kth Largest Element in an Array) and Problem 75(Sort Colors): Firstly sort the array by QuickSelect and divide the whole array into three parts: smaller parts, larger parts and median parts. Secondly move all smaller parts to even positions and larger parts to odd positions."
   ]
  },
  {
   "cell_type": "markdown",
   "metadata": {},
   "source": [
    "**Code**"
   ]
  },
  {
   "cell_type": "code",
   "execution_count": 2,
   "metadata": {},
   "outputs": [],
   "source": [
    "def findKthLargest(nums, k) -> None:\n",
    "    def partition(left, right, pivot_index):\n",
    "        pivot = nums[pivot_index]\n",
    "        nums[right], nums[pivot_index] = nums[pivot_index], nums[right]\n",
    "        cur_index = left\n",
    "        for i in range(left, right):\n",
    "            if nums[i] > pivot:\n",
    "                nums[cur_index], nums[i] = nums[i], nums[cur_index]\n",
    "                cur_index += 1\n",
    "        nums[cur_index], nums[right] = nums[right], nums[cur_index]\n",
    "\n",
    "        return cur_index\n",
    "\n",
    "    def select(left, right, k_largest):\n",
    "        if left == right:\n",
    "            return nums[left]\n",
    "        pivot_index = random.randint(left, right)\n",
    "        pivot_index = partition(left, right, pivot_index)\n",
    "        if k_largest == pivot_index:\n",
    "            return nums[k_largest]\n",
    "        elif k_largest < pivot_index:\n",
    "            return select(left, pivot_index-1, k_largest)\n",
    "        else:\n",
    "            return select(pivot_index+1, right, k_largest)\n",
    "    return select(0, len(nums)-1, k-1)"
   ]
  },
  {
   "cell_type": "code",
   "execution_count": 3,
   "metadata": {},
   "outputs": [],
   "source": [
    "def wiggleSort(nums) -> None:\n",
    "    \"\"\"\n",
    "    Do not return anything, modify nums in-place instead.\n",
    "    \"\"\"\n",
    "    def new_index(i, n):\n",
    "        return (1+2*i)%(n|1) # This n|1 is to handle both n being odd and n being even cases.\n",
    "\n",
    "    n = len(nums)\n",
    "    median = self.findKthLargest(nums, n//2)\n",
    "    left, right, i = 0, n-1, 0\n",
    "    while i <= right:\n",
    "        if nums[new_index(i,n)] > median:\n",
    "            nums[new_index(left,n)], nums[new_index(i,n)] = nums[new_index(i,n)], nums[new_index(left,n)]\n",
    "            left += 1\n",
    "            i += 1\n",
    "        elif nums[new_index(i,n)] < median:\n",
    "            nums[new_index(right,n)], nums[new_index(i,n)] = nums[new_index(i,n)], nums[new_index(right,n)]\n",
    "            right -= 1\n",
    "        else:\n",
    "            i += 1"
   ]
  }
 ],
 "metadata": {
  "kernelspec": {
   "display_name": "Python 3",
   "language": "python",
   "name": "python3"
  },
  "language_info": {
   "codemirror_mode": {
    "name": "ipython",
    "version": 3
   },
   "file_extension": ".py",
   "mimetype": "text/x-python",
   "name": "python",
   "nbconvert_exporter": "python",
   "pygments_lexer": "ipython3",
   "version": "3.7.3"
  }
 },
 "nbformat": 4,
 "nbformat_minor": 2
}
