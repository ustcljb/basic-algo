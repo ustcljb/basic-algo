{
 "cells": [
  {
   "cell_type": "markdown",
   "metadata": {},
   "source": [
    "**Problem**"
   ]
  },
  {
   "cell_type": "code",
   "execution_count": 1,
   "metadata": {},
   "outputs": [],
   "source": [
    "# Find the kth largest element in an unsorted array. Note that it is the kth largest element in the sorted order, \n",
    "# not the kth distinct element."
   ]
  },
  {
   "cell_type": "markdown",
   "metadata": {},
   "source": [
    "**Ideas**"
   ]
  },
  {
   "cell_type": "markdown",
   "metadata": {},
   "source": [
    "1. We can definitely use sorting and then fetch the kth largest element. The time complexity is O(nlgn);\n",
    "\n",
    "2. We can also maintain a heap to store the k largest elements. The time complexity is O(nlgk);\n",
    "\n",
    "3. Ideally, we can take advantage of QuickSelect algorithem, which has an average O(n) time complexity."
   ]
  },
  {
   "cell_type": "markdown",
   "metadata": {},
   "source": [
    "**Code**"
   ]
  },
  {
   "cell_type": "code",
   "execution_count": 2,
   "metadata": {},
   "outputs": [],
   "source": [
    "def findKthLargest(nums, k) -> int:\n",
    "    \n",
    "    def partition(left, right, pivot_index):\n",
    "        pivot = nums[pivot_index]\n",
    "        nums[right], nums[pivot_index] = nums[pivot_index], nums[right] # Move the pivot element to the right end.\n",
    "        cur_index = left\n",
    "        for i in range(left, right): # Move all smaller elements to the left and bigger elements to the right\n",
    "            if nums[i] < pivot:\n",
    "                nums[cur_index], nums[i] = nums[i], nums[cur_index]\n",
    "                cur_index += 1\n",
    "        nums[cur_index], nums[right] = nums[right], nums[cur_index]\n",
    "\n",
    "        return cur_index\n",
    "\n",
    "    def select(left, right, k_smallest):\n",
    "        if left == right:\n",
    "            return nums[left]\n",
    "        pivot_index = random.randint(left, right)\n",
    "        pivot_index = partition(left, right, pivot_index)\n",
    "        if k_smallest == pivot_index:\n",
    "            return nums[k_smallest]\n",
    "        elif k_smallest < pivot_index:\n",
    "            return select(left, pivot_index-1, k_smallest)\n",
    "        else:\n",
    "            return select(pivot_index+1, right, k_smallest)\n",
    "        \n",
    "    return select(0, len(nums)-1, len(nums)-k)"
   ]
  }
 ],
 "metadata": {
  "kernelspec": {
   "display_name": "Python 3",
   "language": "python",
   "name": "python3"
  },
  "language_info": {
   "codemirror_mode": {
    "name": "ipython",
    "version": 3
   },
   "file_extension": ".py",
   "mimetype": "text/x-python",
   "name": "python",
   "nbconvert_exporter": "python",
   "pygments_lexer": "ipython3",
   "version": "3.7.3"
  }
 },
 "nbformat": 4,
 "nbformat_minor": 2
}
