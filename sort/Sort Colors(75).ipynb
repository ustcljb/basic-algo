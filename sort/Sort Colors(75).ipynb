{
 "cells": [
  {
   "cell_type": "markdown",
   "metadata": {},
   "source": [
    "**Problem**"
   ]
  },
  {
   "cell_type": "code",
   "execution_count": 1,
   "metadata": {},
   "outputs": [],
   "source": [
    "# Given an array nums with n objects colored red, white, or blue, sort them in-place so that objects of the same color\n",
    "# are adjacent, with the colors in the order red, white, and blue.\n",
    "\n",
    "# We will use the integers 0, 1, and 2 to represent the color red, white, and blue, respectively."
   ]
  },
  {
   "cell_type": "markdown",
   "metadata": {},
   "source": [
    "**Ideas**"
   ]
  },
  {
   "cell_type": "markdown",
   "metadata": {},
   "source": [
    "We can solve this problem by one-pass: Our goal is to move all 0's to the left and 2's to the right, so just maintain two indexes to record the left and right boundaries."
   ]
  },
  {
   "cell_type": "markdown",
   "metadata": {},
   "source": [
    "**Code**"
   ]
  },
  {
   "cell_type": "code",
   "execution_count": 2,
   "metadata": {},
   "outputs": [],
   "source": [
    "def sortColors(nums) -> None:\n",
    "    \"\"\"\n",
    "    Do not return anything, modify nums in-place instead.\n",
    "    \"\"\"\n",
    "    n = len(nums)\n",
    "    left, right = 0, n-1\n",
    "    cur = 0\n",
    "    while cur <= right:\n",
    "        if nums[cur] == 0:\n",
    "            nums[cur], nums[left] = nums[left], nums[cur]\n",
    "            left += 1\n",
    "            cur += 1\n",
    "        elif nums[cur] == 2:\n",
    "            nums[cur], nums[right] = nums[right], nums[cur]\n",
    "            right -= 1\n",
    "        else:\n",
    "            cur += 1\n",
    "    return"
   ]
  }
 ],
 "metadata": {
  "kernelspec": {
   "display_name": "Python 3",
   "language": "python",
   "name": "python3"
  },
  "language_info": {
   "codemirror_mode": {
    "name": "ipython",
    "version": 3
   },
   "file_extension": ".py",
   "mimetype": "text/x-python",
   "name": "python",
   "nbconvert_exporter": "python",
   "pygments_lexer": "ipython3",
   "version": "3.7.3"
  }
 },
 "nbformat": 4,
 "nbformat_minor": 2
}
