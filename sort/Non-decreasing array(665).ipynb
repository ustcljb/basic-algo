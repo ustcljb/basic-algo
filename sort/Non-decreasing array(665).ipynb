{
 "cells": [
  {
   "cell_type": "markdown",
   "metadata": {},
   "source": [
    "**Problem**"
   ]
  },
  {
   "cell_type": "code",
   "execution_count": 1,
   "metadata": {},
   "outputs": [],
   "source": [
    "# Given an array nums with *n* integers, your task is to check if it could become non-decreasing by modifying \n",
    "# at most 1 element.\n",
    "\n",
    "# We define an array is non-decreasing if nums[i] <= nums[i + 1] holds for every i (0-based) such that \n",
    "# (0 <= i <= n - 2)."
   ]
  },
  {
   "cell_type": "markdown",
   "metadata": {},
   "source": [
    "**Ideas**"
   ]
  },
  {
   "cell_type": "markdown",
   "metadata": {},
   "source": [
    "We can actually think about this problem backward: For any non-decreasing problem, if it is allowed to modify for at most 1 element, what it could be?\n",
    "\n",
    "Say, we have such an arry [1, 2, 3, 3, 6]. We can choose one element(say, the first 3) and either move it up or down. Thus the resulting array could be [1, 2, 5, 3, 6] or [1, 2, 1, 3, 6]. Thus the problem is equivalent to find the total count of such elements and see if it is more than 1. "
   ]
  },
  {
   "cell_type": "markdown",
   "metadata": {},
   "source": [
    "**Code**"
   ]
  },
  {
   "cell_type": "code",
   "execution_count": 2,
   "metadata": {},
   "outputs": [],
   "source": [
    "def checkPossibility(nums) -> bool:\n",
    "    nums = [float('-inf')] + nums\n",
    "    n = len(nums)\n",
    "    i = 1\n",
    "    flip = 0\n",
    "    while i < n:\n",
    "        if nums[i] < nums[i-1]:\n",
    "            flip += 1\n",
    "            if i > 1 and nums[i] >= nums[i-2]:\n",
    "                i += 1\n",
    "                continue\n",
    "            else:\n",
    "                nums[i] = nums[i-1]\n",
    "        i += 1\n",
    "\n",
    "    return flip <= 1"
   ]
  }
 ],
 "metadata": {
  "kernelspec": {
   "display_name": "Python 3",
   "language": "python",
   "name": "python3"
  },
  "language_info": {
   "codemirror_mode": {
    "name": "ipython",
    "version": 3
   },
   "file_extension": ".py",
   "mimetype": "text/x-python",
   "name": "python",
   "nbconvert_exporter": "python",
   "pygments_lexer": "ipython3",
   "version": "3.7.3"
  }
 },
 "nbformat": 4,
 "nbformat_minor": 2
}
