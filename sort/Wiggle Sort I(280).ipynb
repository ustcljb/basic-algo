{
 "cells": [
  {
   "cell_type": "markdown",
   "metadata": {},
   "source": [
    "**Problem**"
   ]
  },
  {
   "cell_type": "code",
   "execution_count": 1,
   "metadata": {},
   "outputs": [],
   "source": [
    "# Given an unsorted array nums, reorder it in-place such that nums[0] <= nums[1] >= nums[2] <= nums[3]...."
   ]
  },
  {
   "cell_type": "markdown",
   "metadata": {},
   "source": [
    "**Ideas**"
   ]
  },
  {
   "cell_type": "markdown",
   "metadata": {},
   "source": [
    "As the problem requires the reordering to happen in-place, the first idea is to maintain some flag to tell the array whether it should move up or down in the current position;\n",
    "\n",
    "Secondly, what if the current direction is not aligned with flag? Say, [1, 4, 2, 1], when the index goes to 3rd one(with element 1), we know the direction should go up but actually go down. The very naive method is to swap the current element and previous element.\n",
    "\n",
    "Does this naive method work? Yes it does. We can actually prove it: Say we have an subarray [a, b, c] and a & b is good but c is not good: Basiclly there are two scenarios: a >= b and b >= c, or a <= b and b <= c. For the first case, if we swap b and c, then c is definitely less than or equal to a and  b >= c is preserved. Do we need to care about the sequence ahead of a? Not at all as we knowing the element after a should be less than or equal to a is good enough. The second case applies the same logic."
   ]
  },
  {
   "cell_type": "markdown",
   "metadata": {},
   "source": [
    "**Code**"
   ]
  },
  {
   "cell_type": "code",
   "execution_count": 2,
   "metadata": {},
   "outputs": [],
   "source": [
    "def checkPossibility(nums) -> bool:\n",
    "    nums = [float('-inf')] + nums\n",
    "    n = len(nums)\n",
    "    i = 1\n",
    "    flip = 0\n",
    "    while i < n:\n",
    "        if nums[i] < nums[i-1]:\n",
    "            flip += 1\n",
    "            if i > 1 and nums[i] >= nums[i-2]:\n",
    "                i += 1\n",
    "                continue\n",
    "            else:\n",
    "                nums[i] = nums[i-1]\n",
    "        i += 1\n",
    "\n",
    "    return flip <= 1"
   ]
  }
 ],
 "metadata": {
  "kernelspec": {
   "display_name": "Python 3",
   "language": "python",
   "name": "python3"
  },
  "language_info": {
   "codemirror_mode": {
    "name": "ipython",
    "version": 3
   },
   "file_extension": ".py",
   "mimetype": "text/x-python",
   "name": "python",
   "nbconvert_exporter": "python",
   "pygments_lexer": "ipython3",
   "version": "3.7.3"
  }
 },
 "nbformat": 4,
 "nbformat_minor": 2
}
